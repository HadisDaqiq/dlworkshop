{
 "cells": [
  {
   "cell_type": "markdown",
   "metadata": {},
   "source": [
    "# The Perceptron\n",
    "Let us implement a perceptron.\n",
    "As a reminder, our perceptron takes multiple inputs, weights each of them with a certain factor and checks if the sum is bigger than a threshold.\n",
    "![Perceptron](./images/perceptron.png)\n",
    "First we are going to collect the data to run this example:"
   ]
  },
  {
   "cell_type": "code",
   "execution_count": 1,
   "metadata": {},
   "outputs": [
    {
     "name": "stdout",
     "output_type": "stream",
     "text": [
      "--2019-03-01 12:08:20--  https://archive.ics.uci.edu/ml/machine-learning-databases/00357/occupancy_data.zip\n",
      "Resolving archive.ics.uci.edu (archive.ics.uci.edu)... 128.195.10.249\n",
      "Connecting to archive.ics.uci.edu (archive.ics.uci.edu)|128.195.10.249|:443... connected.\n",
      "HTTP request sent, awaiting response... 200 OK\n",
      "Length: 335713 (328K) [application/zip]\n",
      "Saving to: ‘/home/jendrik/data/workshop_data/occupancy_data.zip’\n",
      "\n",
      "/home/jendrik/data/ 100%[===================>] 327.84K   334KB/s    in 1.0s    \n",
      "\n",
      "2019-03-01 12:08:22 (334 KB/s) - ‘/home/jendrik/data/workshop_data/occupancy_data.zip’ saved [335713/335713]\n",
      "\n",
      "Archive:  /home/jendrik/data/workshop_data/occupancy_data.zip\n",
      "  inflating: /home/jendrik/data/workshop_data/occupancy_data/datatest.txt  \n",
      "  inflating: /home/jendrik/data/workshop_data/occupancy_data/datatest2.txt  \n",
      "  inflating: /home/jendrik/data/workshop_data/occupancy_data/datatraining.txt  \n"
     ]
    }
   ],
   "source": [
    "! wget -c --retry-connrefused --tries=0 https://archive.ics.uci.edu/ml/machine-learning-databases/00357/occupancy_data.zip -O ~/data/workshop_data/occupancy_data.zip\n",
    "! unzip ~/data/workshop_data/occupancy_data.zip -d ~/data/workshop_data/occupancy_data"
   ]
  },
  {
   "cell_type": "code",
   "execution_count": 1,
   "metadata": {},
   "outputs": [],
   "source": [
    "# Let's start by importing the relevant packages\n",
    "# matplotlib for plots\n",
    "import matplotlib as mpl\n",
    "from matplotlib import pyplot as plt\n",
    "# pandas to read in some data\n",
    "import pandas as pd\n",
    "# numpy to build our first perceptron\n",
    "import numpy as np\n",
    "# Train test split to do validate our findings from the perceptron training\n",
    "from sklearn.model_selection import train_test_split\n",
    "# MinMaxScaler to normalise the data before inputting them to the perceptron\n",
    "from sklearn.preprocessing import MinMaxScaler\n",
    "%matplotlib inline\n",
    "mpl.rcParams['figure.figsize'] = (16, 9)\n",
    "import os\n",
    "\n",
    "home = os.path.expanduser(\"~\")\n",
    "data = home + '/data/workshop_data/occupancy_data/datatraining.txt'"
   ]
  },
  {
   "cell_type": "markdown",
   "metadata": {},
   "source": [
    "## Occupancy Detection Dataset\n",
    "For training the perceptron we will utilise the [occupancy detection dataset](https://archive.ics.uci.edu/ml/datasets/Occupancy+Detection+) from the [UCI Machine Learning Repository](https://archive.ics.uci.edu/ml/datasets.html?task=&area=&type=ts&view=table). It contatins experimental data for binary classification  if a person or not is in a room given temperature, humidity, light and CO$_2$.\n",
    "\t\n"
   ]
  },
  {
   "cell_type": "code",
   "execution_count": 2,
   "metadata": {},
   "outputs": [
    {
     "data": {
      "text/html": [
       "<div>\n",
       "<style scoped>\n",
       "    .dataframe tbody tr th:only-of-type {\n",
       "        vertical-align: middle;\n",
       "    }\n",
       "\n",
       "    .dataframe tbody tr th {\n",
       "        vertical-align: top;\n",
       "    }\n",
       "\n",
       "    .dataframe thead th {\n",
       "        text-align: right;\n",
       "    }\n",
       "</style>\n",
       "<table border=\"1\" class=\"dataframe\">\n",
       "  <thead>\n",
       "    <tr style=\"text-align: right;\">\n",
       "      <th></th>\n",
       "      <th>date</th>\n",
       "      <th>Temperature</th>\n",
       "      <th>Humidity</th>\n",
       "      <th>Light</th>\n",
       "      <th>CO2</th>\n",
       "      <th>HumidityRatio</th>\n",
       "      <th>Occupancy</th>\n",
       "    </tr>\n",
       "  </thead>\n",
       "  <tbody>\n",
       "    <tr>\n",
       "      <th>1</th>\n",
       "      <td>2015-02-04 17:51:00</td>\n",
       "      <td>23.18</td>\n",
       "      <td>27.2720</td>\n",
       "      <td>426.0</td>\n",
       "      <td>721.25</td>\n",
       "      <td>0.004793</td>\n",
       "      <td>1</td>\n",
       "    </tr>\n",
       "    <tr>\n",
       "      <th>2</th>\n",
       "      <td>2015-02-04 17:51:59</td>\n",
       "      <td>23.15</td>\n",
       "      <td>27.2675</td>\n",
       "      <td>429.5</td>\n",
       "      <td>714.00</td>\n",
       "      <td>0.004783</td>\n",
       "      <td>1</td>\n",
       "    </tr>\n",
       "    <tr>\n",
       "      <th>3</th>\n",
       "      <td>2015-02-04 17:53:00</td>\n",
       "      <td>23.15</td>\n",
       "      <td>27.2450</td>\n",
       "      <td>426.0</td>\n",
       "      <td>713.50</td>\n",
       "      <td>0.004779</td>\n",
       "      <td>1</td>\n",
       "    </tr>\n",
       "    <tr>\n",
       "      <th>4</th>\n",
       "      <td>2015-02-04 17:54:00</td>\n",
       "      <td>23.15</td>\n",
       "      <td>27.2000</td>\n",
       "      <td>426.0</td>\n",
       "      <td>708.25</td>\n",
       "      <td>0.004772</td>\n",
       "      <td>1</td>\n",
       "    </tr>\n",
       "    <tr>\n",
       "      <th>5</th>\n",
       "      <td>2015-02-04 17:55:00</td>\n",
       "      <td>23.10</td>\n",
       "      <td>27.2000</td>\n",
       "      <td>426.0</td>\n",
       "      <td>704.50</td>\n",
       "      <td>0.004757</td>\n",
       "      <td>1</td>\n",
       "    </tr>\n",
       "  </tbody>\n",
       "</table>\n",
       "</div>"
      ],
      "text/plain": [
       "                  date  Temperature  Humidity  Light     CO2  HumidityRatio  \\\n",
       "1  2015-02-04 17:51:00        23.18   27.2720  426.0  721.25       0.004793   \n",
       "2  2015-02-04 17:51:59        23.15   27.2675  429.5  714.00       0.004783   \n",
       "3  2015-02-04 17:53:00        23.15   27.2450  426.0  713.50       0.004779   \n",
       "4  2015-02-04 17:54:00        23.15   27.2000  426.0  708.25       0.004772   \n",
       "5  2015-02-04 17:55:00        23.10   27.2000  426.0  704.50       0.004757   \n",
       "\n",
       "   Occupancy  \n",
       "1          1  \n",
       "2          1  \n",
       "3          1  \n",
       "4          1  \n",
       "5          1  "
      ]
     },
     "execution_count": 2,
     "metadata": {},
     "output_type": "execute_result"
    }
   ],
   "source": [
    "# Load the occupancy data so we have something to predict\n",
    "df = pd.read_csv(data)\n",
    "target = 'Occupancy'\n",
    "features = [col for col in df.columns if target not in col and 'date' not in col]\n",
    "df.head()"
   ]
  },
  {
   "cell_type": "code",
   "execution_count": 24,
   "metadata": {},
   "outputs": [
    {
     "name": "stdout",
     "output_type": "stream",
     "text": [
      "date             2015-02-04 17:51:00\n",
      "Temperature                       19\n",
      "Humidity                      16.745\n",
      "Light                              0\n",
      "CO2                           412.75\n",
      "HumidityRatio             0.00267413\n",
      "Occupancy                          0\n",
      "dtype: object date             2015-02-10 09:33:00\n",
      "Temperature                    23.18\n",
      "Humidity                     39.1175\n",
      "Light                        1546.33\n",
      "CO2                           2028.5\n",
      "HumidityRatio             0.00647601\n",
      "Occupancy                          1\n",
      "dtype: object\n"
     ]
    }
   ],
   "source": [
    "print(df.min(), df.max())"
   ]
  },
  {
   "cell_type": "markdown",
   "metadata": {},
   "source": [
    "We will normalize the data to be in a range from 0 to 1. This makes sure that all weights are in the same order of magnitude. Otherwise the perceptron would need to learn the range of the data first and then how to separate the data best."
   ]
  },
  {
   "cell_type": "code",
   "execution_count": 3,
   "metadata": {},
   "outputs": [],
   "source": [
    "x_train, x_test, y_train, y_test = train_test_split(df[features], df[target])\n",
    "scaler = MinMaxScaler()\n",
    "x_train = scaler.fit_transform(x_train)\n",
    "x_test = scaler.transform(x_test)"
   ]
  },
  {
   "cell_type": "markdown",
   "metadata": {},
   "source": [
    "## Build the perceptron\n",
    "To build and train a perceptron we have to perform three steps:\n",
    "- Calculate the perceptron's output $\\hat{y} = \\left(\\sum_i w_i X_i \\geq 0\\right)$ (this can be done in numpy using np.dot [docs](https://docs.scipy.org/doc/numpy/reference/generated/numpy.dot.html))\n",
    "- Determine the update for the weights using the error and the learning rate: $\\partial w_i = \\alpha (y-\\hat{y}) X_i$\n",
    "- Calculate new weights as: $w_i \\leftarrow w_i + \\partial w_i$\n",
    "- Repeat the above steps until there occur no more updates (we will iterate once over the dataset instead)"
   ]
  },
  {
   "cell_type": "code",
   "execution_count": 4,
   "metadata": {},
   "outputs": [
    {
     "name": "stdout",
     "output_type": "stream",
     "text": [
      "initial weights: [0.61155562 0.07835792 0.57485598 0.54876456 0.17497983]\n"
     ]
    }
   ],
   "source": [
    "# initializes weights\n",
    "w = np.random.rand(len(features))\n",
    "print(\"initial weights: {}\".format(w))\n",
    "# set a learning rare\n",
    "alpha = 1e-2"
   ]
  },
  {
   "cell_type": "code",
   "execution_count": 5,
   "metadata": {},
   "outputs": [],
   "source": [
    "def calculate_perceptron_output(w, x):\n",
    "    # Calculate the perceptrons output using \n",
    "    # np.dot(w, x) to calculate the sum and\n",
    "    # thresholding the output:\n",
    "    # solution: (np.dot(w, x) >= 0).astype(float)\n",
    "    return (np.dot(w, x) >= 0).astype(float)"
   ]
  },
  {
   "cell_type": "code",
   "execution_count": 8,
   "metadata": {},
   "outputs": [],
   "source": [
    "for x, y in zip(x_train, y_train.values):\n",
    "    y_hat = calculate_perceptron_output(w, x)\n",
    "    error = y - unit_step(y_hat)\n",
    "    # calculate delta_w\n",
    "    delta_w = alpha * (y-y_hat) * x\n",
    "    # update w\n",
    "    w += delta_w"
   ]
  },
  {
   "cell_type": "code",
   "execution_count": 9,
   "metadata": {},
   "outputs": [
    {
     "name": "stdout",
     "output_type": "stream",
     "text": [
      "final weights: [-0.22865703 -0.13421023  0.48953436  0.35770484 -0.00195397]\n"
     ]
    }
   ],
   "source": [
    "results=[]\n",
    "expected=[]\n",
    "for x in x_train:\n",
    "    results.append(calculate_perceptron_output(w, x))\n",
    "results = np.array(results)\n",
    "expected = np.array(y_train.values)\n",
    "print(\"final weights: {}\".format(w))"
   ]
  },
  {
   "cell_type": "code",
   "execution_count": 10,
   "metadata": {},
   "outputs": [
    {
     "data": {
      "text/plain": [
       "[<matplotlib.lines.Line2D at 0x7f945338f0f0>]"
      ]
     },
     "execution_count": 10,
     "metadata": {},
     "output_type": "execute_result"
    },
    {
     "data": {
      "image/png": "[encoded data removed]",
      "text/plain": [
       "<Figure size 432x288 with 1 Axes>"
      ]
     },
     "metadata": {
      "needs_background": "light"
     },
     "output_type": "display_data"
    }
   ],
   "source": [
    "plt.plot(expected-results, marker='.', ls='')"
   ]
  },
  {
   "cell_type": "code",
   "execution_count": 11,
   "metadata": {},
   "outputs": [
    {
     "name": "stdout",
     "output_type": "stream",
     "text": [
      "accuracy: 0.9787129523497625\n"
     ]
    }
   ],
   "source": [
    "print(\"accuracy: {}\".format(np.mean(results == expected)))"
   ]
  },
  {
   "cell_type": "markdown",
   "metadata": {},
   "source": [
    "## Let us change to PyTorch"
   ]
  },
  {
   "cell_type": "code",
   "execution_count": 12,
   "metadata": {},
   "outputs": [],
   "source": [
    "from torch import nn\n",
    "import torch"
   ]
  },
  {
   "cell_type": "markdown",
   "metadata": {},
   "source": [
    "Replace the calls to numpy with calls to torch and convert numpy arrays to torch tensors using torch_arr = torch.from_numpy(arr)"
   ]
  },
  {
   "cell_type": "code",
   "execution_count": 17,
   "metadata": {},
   "outputs": [],
   "source": [
    "def calculate_perceptron_output_torch(w, x):\n",
    "    # Calculate the perceptrons output using \n",
    "    # np.dot(w, x) to calculate the sum and\n",
    "    # thresholding the output:\n",
    "    # solution: (np.dot(w, x) >= 0).astype(float)\n",
    "    return torch.dot(w, x) >= 0"
   ]
  },
  {
   "cell_type": "code",
   "execution_count": 18,
   "metadata": {},
   "outputs": [
    {
     "name": "stdout",
     "output_type": "stream",
     "text": [
      "initial weights: tensor([0.4392, 0.9770, 0.8696, 0.6408, 0.9522], dtype=torch.float64)\n",
      "final weights: tensor([-0.3995, -0.1718,  0.7742,  0.4164,  0.1130], dtype=torch.float64)\n"
     ]
    }
   ],
   "source": [
    "\n",
    "w = torch.from_numpy(np.random.rand(len(features)))\n",
    "alpha = torch.from_numpy(np.array(alpha))\n",
    "print(\"initial weights: {}\".format(w))\n",
    "x_ttrain = torch.from_numpy(x_train)\n",
    "y_ttrain = torch.from_numpy(y_train.values)\n",
    "for x, y in zip(x_ttrain, y_ttrain):\n",
    "    y_hat = calculate_perceptron_output_torch(w, x)\n",
    "    error = y - y_hat\n",
    "    w += alpha * error * x\n",
    "print(\"final weights: {}\".format(w))"
   ]
  },
  {
   "cell_type": "code",
   "execution_count": 22,
   "metadata": {},
   "outputs": [
    {
     "name": "stdout",
     "output_type": "stream",
     "text": [
      "weights: tensor([-0.3995, -0.1718,  0.7742,  0.4164,  0.1130], dtype=torch.float64)\n",
      "accuracy: 0.9847715497016907\n"
     ]
    }
   ],
   "source": [
    "results=[]\n",
    "expected=[]\n",
    "for x, y in zip(x_ttrain, y_ttrain):\n",
    "    result = calculate_perceptron_output_torch(w, x)\n",
    "    expected.append(y)\n",
    "    results.append(result)\n",
    "results = torch.stack(results)\n",
    "expected = torch.stack(expected)\n",
    "print(\"weights: {}\".format(w))\n",
    "print(\"accuracy: {}\".format((results == expected.byte()).float().mean()))"
   ]
  },
  {
   "cell_type": "code",
   "execution_count": 15,
   "metadata": {},
   "outputs": [
    {
     "data": {
      "text/plain": [
       "Text(0, 0.5, 'Light')"
      ]
     },
     "execution_count": 15,
     "metadata": {},
     "output_type": "execute_result"
    },
    {
     "data": {
      "image/png": "[encoded data removed]",
      "text/plain": [
       "<Figure size 1152x648 with 1 Axes>"
      ]
     },
     "metadata": {
      "needs_background": "light"
     },
     "output_type": "display_data"
    }
   ],
   "source": [
    "ax = df[df.Occupancy==1].plot(x='CO2', y='Light', ls='', marker='o', ms=3, color='r', label='occupied')\n",
    "df[df.Occupancy==0].plot(x='CO2', y='Light', ls='', marker='o', ms=3, color='b', ax=ax, label='empty')\n",
    "ax.set_ylabel('Light')"
   ]
  },
  {
   "cell_type": "code",
   "execution_count": null,
   "metadata": {},
   "outputs": [],
   "source": []
  }
 ],
 "metadata": {
  "kernelspec": {
   "display_name": "Python 3",
   "language": "python",
   "name": "python3"
  },
  "language_info": {
   "codemirror_mode": {
    "name": "ipython",
    "version": 3
   },
   "file_extension": ".py",
   "mimetype": "text/x-python",
   "name": "python",
   "nbconvert_exporter": "python",
   "pygments_lexer": "ipython3",
   "version": "3.7.1"
  }
 },
 "nbformat": 4,
 "nbformat_minor": 2
}
