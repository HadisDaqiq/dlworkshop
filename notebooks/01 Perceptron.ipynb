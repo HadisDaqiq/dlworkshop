{
 "cells": [
  {
   "cell_type": "markdown",
   "metadata": {},
   "source": [
    "# The Perceptron\n",
    "Let us implement a perceptron.\n",
    "As a reminder, our perceptron takes multiple inputs, weights each of them with a certain factor and checks if the sum is bigger than a threshold.\n",
    "![Perceptron](./images/perceptron.png)\n",
    "First we are going to collect the data to run this example:"
   ]
  },
  {
   "cell_type": "code",
   "execution_count": null,
   "metadata": {},
   "outputs": [],
   "source": [
    "! wget -c --retry-connrefused --tries=0 https://archive.ics.uci.edu/ml/machine-learning-databases/00357/occupancy_data.zip -O ~/data/workshop_data/occupancy_data.zip\n",
    "! unzip ~/data/workshop_data/occupancy_data.zip -d ~/data/workshop_data/occupancy_data"
   ]
  },
  {
   "cell_type": "code",
   "execution_count": null,
   "metadata": {},
   "outputs": [],
   "source": [
    "# Let's start by importing the relevant packages\n",
    "# matplotlib for plots\n",
    "import matplotlib as mpl\n",
    "from matplotlib import pyplot as plt\n",
    "# pandas to read in some data\n",
    "import pandas as pd\n",
    "# numpy to build our first perceptron\n",
    "import numpy as np\n",
    "# Train test split to do validate our findings from the perceptron training\n",
    "from sklearn.model_selection import train_test_split\n",
    "# MinMaxScaler to normalise the data before inputting them to the perceptron\n",
    "from sklearn.preprocessing import MinMaxScaler\n",
    "%matplotlib inline\n",
    "mpl.rcParams['figure.figsize'] = (16, 9)\n",
    "import os\n",
    "\n",
    "home = os.path.expanduser(\"~\")\n",
    "data = home + '/data/workshop_data/occupancy_data/datatraining.txt'"
   ]
  },
  {
   "cell_type": "markdown",
   "metadata": {},
   "source": [
    "## Occupancy Detection Dataset\n",
    "For training the perceptron we will utilise the [occupancy detection dataset](https://archive.ics.uci.edu/ml/datasets/Occupancy+Detection+) from the [UCI Machine Learning Repository](https://archive.ics.uci.edu/ml/datasets.html?task=&area=&type=ts&view=table). It contatins experimental data for binary classification  if a person or not is in a room given temperature, humidity, light and CO$_2$.\n",
    "\t\n"
   ]
  },
  {
   "cell_type": "code",
   "execution_count": null,
   "metadata": {},
   "outputs": [],
   "source": [
    "# Load the occupancy data so we have something to predict\n",
    "df = pd.read_csv(data)\n",
    "target = 'Occupancy'\n",
    "features = [col for col in df.columns if target not in col and 'date' not in col]\n",
    "df.head()"
   ]
  },
  {
   "cell_type": "code",
   "execution_count": null,
   "metadata": {},
   "outputs": [],
   "source": [
    "print(df.min(), df.max())"
   ]
  },
  {
   "cell_type": "markdown",
   "metadata": {},
   "source": [
    "We will normalize the data to be in a range from 0 to 1. This makes sure that all weights are in the same order of magnitude. Otherwise the perceptron would need to learn the range of the data first and then how to separate the data best."
   ]
  },
  {
   "cell_type": "code",
   "execution_count": null,
   "metadata": {},
   "outputs": [],
   "source": [
    "x_train, x_test, y_train, y_test = train_test_split(df[features], df[target])\n",
    "scaler = MinMaxScaler()\n",
    "x_train = scaler.fit_transform(x_train)\n",
    "x_test = scaler.transform(x_test)"
   ]
  },
  {
   "cell_type": "markdown",
   "metadata": {},
   "source": [
    "## Build the perceptron\n",
    "To build and train a perceptron we have to perform three steps:\n",
    "- Calculate the perceptron's output $\\hat{y} = \\left(\\sum_i w_i X_i \\geq 0\\right)$ (this can be done in numpy using np.dot [docs](https://docs.scipy.org/doc/numpy/reference/generated/numpy.dot.html))\n",
    "- Determine the update for the weights using the error and the learning rate: $\\partial w_i = \\alpha (y-\\hat{y}) X_i$\n",
    "- Calculate new weights as: $w_i \\leftarrow w_i + \\partial w_i$\n",
    "- Repeat the above steps until there occur no more updates (we will iterate once over the dataset instead)"
   ]
  },
  {
   "cell_type": "code",
   "execution_count": null,
   "metadata": {},
   "outputs": [],
   "source": [
    "# initializes weights\n",
    "w = np.random.rand(len(features))\n",
    "print(\"initial weights: {}\".format(w))\n",
    "# set a learning rare\n",
    "alpha = 1e-2"
   ]
  },
  {
   "cell_type": "code",
   "execution_count": null,
   "metadata": {},
   "outputs": [],
   "source": [
    "def calculate_perceptron_output(w, x):\n",
    "    # Calculate the perceptrons output using \n",
    "    # np.dot(w, x) to calculate the sum and\n",
    "    # thresholding the output:\n",
    "    # solution: (np.dot(w, x) >= 0).astype(float)\n",
    "    return (np.dot(w, x) >= 0).astype(float)"
   ]
  },
  {
   "cell_type": "code",
   "execution_count": null,
   "metadata": {},
   "outputs": [],
   "source": [
    "for x, y in zip(x_train, y_train.values):\n",
    "    y_hat = calculate_perceptron_output(w, x)\n",
    "    error = y - unit_step(y_hat)\n",
    "    # calculate delta_w\n",
    "    delta_w = alpha * (y-y_hat) * x\n",
    "    # update w\n",
    "    w += delta_w"
   ]
  },
  {
   "cell_type": "code",
   "execution_count": null,
   "metadata": {},
   "outputs": [],
   "source": [
    "results=[]\n",
    "expected=[]\n",
    "for x in x_train:\n",
    "    results.append(calculate_perceptron_output(w, x))\n",
    "results = np.array(results)\n",
    "expected = np.array(y_train.values)\n",
    "print(\"final weights: {}\".format(w))"
   ]
  },
  {
   "cell_type": "code",
   "execution_count": null,
   "metadata": {},
   "outputs": [],
   "source": [
    "plt.plot(expected-results, marker='.', ls='')"
   ]
  },
  {
   "cell_type": "code",
   "execution_count": null,
   "metadata": {},
   "outputs": [],
   "source": [
    "print(\"accuracy: {}\".format(np.mean(results == expected)))"
   ]
  },
  {
   "cell_type": "markdown",
   "metadata": {},
   "source": [
    "## Let us change to PyTorch"
   ]
  },
  {
   "cell_type": "code",
   "execution_count": null,
   "metadata": {},
   "outputs": [],
   "source": [
    "from torch import nn\n",
    "import torch"
   ]
  },
  {
   "cell_type": "markdown",
   "metadata": {},
   "source": [
    "Replace the calls to numpy with calls to torch and convert numpy arrays to torch tensors using torch_arr = torch.from_numpy(arr)"
   ]
  },
  {
   "cell_type": "code",
   "execution_count": null,
   "metadata": {},
   "outputs": [],
   "source": [
    "def calculate_perceptron_output_torch(w, x):\n",
    "    # Calculate the perceptrons output using \n",
    "    # np.dot(w, x) to calculate the sum and\n",
    "    # thresholding the output:\n",
    "    # solution: (np.dot(w, x) >= 0).astype(float)\n",
    "    return torch.dot(w, x) >= 0"
   ]
  },
  {
   "cell_type": "code",
   "execution_count": null,
   "metadata": {},
   "outputs": [],
   "source": [
    "\n",
    "w = torch.from_numpy(np.random.rand(len(features)))\n",
    "alpha = torch.from_numpy(np.array(alpha))\n",
    "print(\"initial weights: {}\".format(w))\n",
    "x_ttrain = torch.from_numpy(x_train)\n",
    "y_ttrain = torch.from_numpy(y_train.values)\n",
    "for x, y in zip(x_ttrain, y_ttrain):\n",
    "    y_hat = calculate_perceptron_output_torch(w, x)\n",
    "    error = y - y_hat\n",
    "    w += alpha * error * x\n",
    "print(\"final weights: {}\".format(w))"
   ]
  },
  {
   "cell_type": "code",
   "execution_count": null,
   "metadata": {},
   "outputs": [],
   "source": [
    "results=[]\n",
    "expected=[]\n",
    "for x, y in zip(x_ttrain, y_ttrain):\n",
    "    result = calculate_perceptron_output_torch(w, x)\n",
    "    expected.append(y)\n",
    "    results.append(result)\n",
    "results = torch.stack(results)\n",
    "expected = torch.stack(expected)\n",
    "print(\"weights: {}\".format(w))\n",
    "print(\"accuracy: {}\".format((results == expected.byte()).float().mean()))"
   ]
  },
  {
   "cell_type": "code",
   "execution_count": null,
   "metadata": {},
   "outputs": [],
   "source": [
    "ax = df[df.Occupancy==1].plot(x='CO2', y='Light', ls='', marker='o', ms=3, color='r', label='occupied')\n",
    "df[df.Occupancy==0].plot(x='CO2', y='Light', ls='', marker='o', ms=3, color='b', ax=ax, label='empty')\n",
    "ax.set_ylabel('Light')"
   ]
  },
  {
   "cell_type": "code",
   "execution_count": null,
   "metadata": {},
   "outputs": [],
   "source": []
  }
 ],
 "metadata": {
  "kernelspec": {
   "display_name": "Python 3",
   "language": "python",
   "name": "python3"
  },
  "language_info": {
   "codemirror_mode": {
    "name": "ipython",
    "version": 3
   },
   "file_extension": ".py",
   "mimetype": "text/x-python",
   "name": "python",
   "nbconvert_exporter": "python",
   "pygments_lexer": "ipython3",
   "version": "3.7.2"
  }
 },
 "nbformat": 4,
 "nbformat_minor": 2
}
