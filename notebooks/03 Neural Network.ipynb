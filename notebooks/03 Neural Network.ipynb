{
 "cells": [
  {
   "cell_type": "markdown",
   "metadata": {},
   "source": [
    "## Neural Network"
   ]
  },
  {
   "cell_type": "code",
   "execution_count": null,
   "metadata": {},
   "outputs": [],
   "source": [
    "# Let's start by importing the relevant packages\n",
    "# matplotlib for plots\n",
    "import matplotlib as mpl\n",
    "from matplotlib import pyplot as plt\n",
    "# pandas to read in some data\n",
    "import pandas as pd\n",
    "# numpy to build our first perceptron\n",
    "import numpy as np\n",
    "# Train test split to do validate our findings from the perceptron training\n",
    "from sklearn.model_selection import train_test_split\n",
    "# MinMaxScaler to normalise the data before inputting them to the perceptron\n",
    "from sklearn.preprocessing import MinMaxScaler\n",
    "# PyTorch for neural networks\n",
    "import torch\n",
    "import time\n",
    "from torch import nn\n",
    "%matplotlib inline\n",
    "mpl.rcParams['figure.figsize'] = (16, 9)\n",
    "import os\n",
    "home = os.path.expanduser(\"~\")\n",
    "data = home + '/data/workshop_data/occupancy_data/datatraining.txt'\n"
   ]
  },
  {
   "cell_type": "code",
   "execution_count": null,
   "metadata": {},
   "outputs": [],
   "source": [
    "# Load the occupancy data so we have something to predict\n",
    "df = pd.read_csv(data)\n",
    "target = 'Occupancy'\n",
    "features = [col for col in df.columns if target not in col and 'date' not in col]"
   ]
  },
  {
   "cell_type": "code",
   "execution_count": null,
   "metadata": {},
   "outputs": [],
   "source": [
    "x_train, x_val, y_train, y_val = train_test_split(df[features], df[target], shuffle=False)\n",
    "scaler = MinMaxScaler()\n",
    "x_train = scaler.fit_transform(x_train)\n",
    "x_val = scaler.transform(x_val)"
   ]
  },
  {
   "cell_type": "markdown",
   "metadata": {},
   "source": [
    "## Build the neural network\n",
    "To extend our previously build neuron to a neural network, we will need to add a second (third, fourth) linear layer.\n",
    "\n",
    "The first layer needs to output as many layers as the second one consumes. Try 10 for the time being.\n",
    "You will need to update the logits and forward function as well to pass through all layers.\n"
   ]
  },
  {
   "cell_type": "code",
   "execution_count": null,
   "metadata": {},
   "outputs": [],
   "source": [
    "class Network(nn.Module):\n",
    "    \n",
    "    def __init__(self, number_of_inputs, hidden_units):\n",
    "        super().__init__()\n",
    "        # Build the network using nn.Linear\n",
    "        self.linear1 = \n",
    "        self.linear2 = \n",
    "        # use nn.Sigmoid as an activation function\n",
    "        self.act1 = \n",
    "        self.act2 = \n",
    "    \n",
    "    def logit(self, inp):\n",
    "        # Calculate the logits as the input to the last activation\n",
    "    \n",
    "    def forward(self, inp):\n",
    "        # Calculate the output of the whole network utilising the logit function\n",
    "        \n",
    "    "
   ]
  },
  {
   "cell_type": "markdown",
   "metadata": {},
   "source": [
    "Let us now select a random selection of the training data and calculate the gradients for the neuron:"
   ]
  },
  {
   "cell_type": "code",
   "execution_count": null,
   "metadata": {},
   "outputs": [],
   "source": [
    "loss = nn.BCEWithLogitsLoss()\n",
    "net = Network(5, 10)\n",
    "optim = torch.optim.SGD(net.parameters(), lr=5e-2)"
   ]
  },
  {
   "cell_type": "code",
   "execution_count": null,
   "metadata": {},
   "outputs": [],
   "source": [
    "def fit_batch(optim, loss, net, x, y):\n",
    "    net.train()\n",
    "    optim.zero_grad()\n",
    "    y_pred = net.logit(x)\n",
    "    err = loss(y_pred, y)\n",
    "    err.mean().backward()\n",
    "    optim.step()\n",
    "    return y_pred\n",
    "\n",
    "def eval_batch(net, x):\n",
    "    net.eval()\n",
    "    y_pred = net(x)\n",
    "    return y_pred"
   ]
  },
  {
   "cell_type": "code",
   "execution_count": null,
   "metadata": {},
   "outputs": [],
   "source": [
    "if torch.cuda.is_available():\n",
    "    net = Network(5, 10).cuda()\n",
    "    optim = torch.optim.Adam(net.parameters(), lr=1e-2)\n",
    "    start = time.time()\n",
    "    for i in range(20):\n",
    "        acc = None\n",
    "        for i in range(200):\n",
    "            select = np.random.randint(0, len(x_train), 2048)\n",
    "            x = torch.from_numpy(x_train[select]).float().cuda()\n",
    "            y = torch.from_numpy(y_train.iloc[select].values).float().unsqueeze(1).cuda()\n",
    "            y_pred = fit_batch(optim, loss, net, x, y)\n",
    "            if acc is None:\n",
    "                acc = (y==(y_pred > .5).float()).float().mean()\n",
    "            else:\n",
    "                acc += (y==(y_pred > .5).float()).float().mean()\n",
    "        print('train accuracy {}'.format(acc.data.cpu().numpy()/200))\n",
    "    \n",
    "    x = torch.from_numpy(x_val).float().cuda()\n",
    "    y = torch.from_numpy(y_val.values).float().unsqueeze(1).cuda()\n",
    "    y_pred = eval_batch(net, x)\n",
    "    acc = (y==(y_pred > .5).float()).float().mean()\n",
    "    print('val accuracy {}'.format(acc.data.cpu().numpy()))\n",
    "    \n",
    "    print('Training time: {}'.format(time.time() - start))"
   ]
  },
  {
   "cell_type": "markdown",
   "metadata": {},
   "source": [
    "## How does the result change with a changing network?\n",
    "\n",
    "Now try using a bigger layersize and try adding dropout.\n",
    "How can we change the training and validation loss?\n",
    "\n",
    "- What happens if we add Dropout? [docs](https://pytorch.org/docs/stable/nn.html#dropout)\n",
    "- What happens if you add momentum or weight decay to SGD? [docs](https://pytorch.org/docs/stable/optim.html#torch.optim.SGD)\n",
    "- What happens if you use an Adam optimizer instead of SGD? [docs](https://pytorch.org/docs/stable/optim.html#torch.optim.Adam)\n",
    "- What happens if we use other activation functions? [docs](https://pytorch.org/docs/stable/nn.html#non-linear-activations-weighted-sum-nonlinearity)\n",
    "\n",
    "Hint You can add dropout using:\n",
    "```\n",
    "    self.dropout = nn.Dropout(how_many_percent_shall_be_dropped)\n",
    "    \n",
    "    def logits(x):\n",
    "        out_layer1 = self.dropout(self.act1(self.linear1(x)))\n",
    "        ...\n",
    "```"
   ]
  },
  {
   "cell_type": "code",
   "execution_count": null,
   "metadata": {},
   "outputs": [],
   "source": []
  }
 ],
 "metadata": {
  "kernelspec": {
   "display_name": "Python 3",
   "language": "python",
   "name": "python3"
  },
  "language_info": {
   "codemirror_mode": {
    "name": "ipython",
    "version": 3
   },
   "file_extension": ".py",
   "mimetype": "text/x-python",
   "name": "python",
   "nbconvert_exporter": "python",
   "pygments_lexer": "ipython3",
   "version": "3.7.2"
  }
 },
 "nbformat": 4,
 "nbformat_minor": 2
}
